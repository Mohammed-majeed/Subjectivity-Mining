{
 "cells": [
  {
   "cell_type": "code",
   "execution_count": 2,
   "metadata": {},
   "outputs": [],
   "source": [
    "import torch\n",
    "import pandas as pd\n",
    "import math\n",
    "import matplotlib.pyplot as plt\n",
    "from sklearn.metrics import classification_report\n",
    "from sklearn.model_selection import train_test_split\n",
    "from simpletransformers.classification import ClassificationModel, ClassificationArgs\n",
    "from transformers import BertTokenizer, BertForSequenceClassification, Trainer, TrainingArguments"
   ]
  },
  {
   "cell_type": "code",
   "execution_count": 4,
   "metadata": {},
   "outputs": [],
   "source": [
    "OLIDv1_train_df = pd.read_csv(\"Datasets\\olid-train-small.csv\")  # length 5852\n",
    "hasoc_train_df = pd.read_csv(\"Datasets\\hasoc-train.csv\")        # length 5852\n",
    "OLIDv1_test_df = pd.read_csv(\"Datasets\\olid-test.csv\")          # length 860"
   ]
  },
  {
   "cell_type": "code",
   "execution_count": 5,
   "metadata": {},
   "outputs": [],
   "source": [
    "# Split the olid_train dataset into a training set and a validation set\n",
    "X_train_olid, X_val_olid, Y_train_olid, Y_val_olid = train_test_split(OLIDv1_train_df['text'], OLIDv1_train_df['labels'], test_size=0.2, random_state=42)\n",
    "\n",
    "# Split the hasoc_train dataset into a training set and a validation set\n",
    "X_train_hasoc, X_val_hasoc, Y_train_hasoc, Y_val_hasoc = train_test_split(hasoc_train_df['text'], hasoc_train_df['labels'], test_size=0.2, random_state=42)"
   ]
  },
  {
   "cell_type": "code",
   "execution_count": 20,
   "metadata": {},
   "outputs": [
    {
     "name": "stderr",
     "output_type": "stream",
     "text": [
      "Some weights of BertForSequenceClassification were not initialized from the model checkpoint at GroNLP/hateBERT and are newly initialized: ['classifier.weight', 'classifier.bias']\n",
      "You should probably TRAIN this model on a down-stream task to be able to use it for predictions and inference.\n"
     ]
    },
    {
     "data": {
      "application/vnd.jupyter.widget-view+json": {
       "model_id": "001e6b73c8fc41218d8cdd4d4d2d7919",
       "version_major": 2,
       "version_minor": 0
      },
      "text/plain": [
       "  0%|          | 0/4681 [00:00<?, ?it/s]"
      ]
     },
     "metadata": {},
     "output_type": "display_data"
    },
    {
     "data": {
      "application/vnd.jupyter.widget-view+json": {
       "model_id": "0d57f76737534ab7b37f8776dd09b40c",
       "version_major": 2,
       "version_minor": 0
      },
      "text/plain": [
       "Epoch:   0%|          | 0/15 [00:00<?, ?it/s]"
      ]
     },
     "metadata": {},
     "output_type": "display_data"
    },
    {
     "data": {
      "application/vnd.jupyter.widget-view+json": {
       "model_id": "b82c2a4847104e72860eb90690fe8231",
       "version_major": 2,
       "version_minor": 0
      },
      "text/plain": [
       "Running Epoch 0 of 15:   0%|          | 0/586 [00:00<?, ?it/s]"
      ]
     },
     "metadata": {},
     "output_type": "display_data"
    },
    {
     "data": {
      "application/vnd.jupyter.widget-view+json": {
       "model_id": "dd19c169a0f34196ac0b02972d611e79",
       "version_major": 2,
       "version_minor": 0
      },
      "text/plain": [
       "  0%|          | 0/1171 [00:00<?, ?it/s]"
      ]
     },
     "metadata": {},
     "output_type": "display_data"
    },
    {
     "data": {
      "application/vnd.jupyter.widget-view+json": {
       "model_id": "5d3278b52ce84acaa202ada6069ae8bf",
       "version_major": 2,
       "version_minor": 0
      },
      "text/plain": [
       "Running Epoch 1 of 15:   0%|          | 0/586 [00:00<?, ?it/s]"
      ]
     },
     "metadata": {},
     "output_type": "display_data"
    },
    {
     "data": {
      "application/vnd.jupyter.widget-view+json": {
       "model_id": "e6d6435478214fb384088ab4e3851bd6",
       "version_major": 2,
       "version_minor": 0
      },
      "text/plain": [
       "  0%|          | 0/1171 [00:00<?, ?it/s]"
      ]
     },
     "metadata": {},
     "output_type": "display_data"
    },
    {
     "data": {
      "application/vnd.jupyter.widget-view+json": {
       "model_id": "dd1a9b0bc4224775903b9be847f68f93",
       "version_major": 2,
       "version_minor": 0
      },
      "text/plain": [
       "Running Epoch 2 of 15:   0%|          | 0/586 [00:00<?, ?it/s]"
      ]
     },
     "metadata": {},
     "output_type": "display_data"
    },
    {
     "data": {
      "application/vnd.jupyter.widget-view+json": {
       "model_id": "d7e8a91026b64f89bb8e19ec32665062",
       "version_major": 2,
       "version_minor": 0
      },
      "text/plain": [
       "  0%|          | 0/1171 [00:00<?, ?it/s]"
      ]
     },
     "metadata": {},
     "output_type": "display_data"
    },
    {
     "data": {
      "application/vnd.jupyter.widget-view+json": {
       "model_id": "b13c5153622d4ed2a60622c37c335d92",
       "version_major": 2,
       "version_minor": 0
      },
      "text/plain": [
       "Running Epoch 3 of 15:   0%|          | 0/586 [00:00<?, ?it/s]"
      ]
     },
     "metadata": {},
     "output_type": "display_data"
    },
    {
     "data": {
      "application/vnd.jupyter.widget-view+json": {
       "model_id": "48e3a2028d6d4e5b8ee9588898071ebd",
       "version_major": 2,
       "version_minor": 0
      },
      "text/plain": [
       "  0%|          | 0/1171 [00:00<?, ?it/s]"
      ]
     },
     "metadata": {},
     "output_type": "display_data"
    },
    {
     "data": {
      "application/vnd.jupyter.widget-view+json": {
       "model_id": "ddd1a4e3cf1240d4b8b7d3f7bc0678a5",
       "version_major": 2,
       "version_minor": 0
      },
      "text/plain": [
       "  0%|          | 0/1171 [00:00<?, ?it/s]"
      ]
     },
     "metadata": {},
     "output_type": "display_data"
    },
    {
     "data": {
      "application/vnd.jupyter.widget-view+json": {
       "model_id": "af9fe263c69541409bbcc66b4839623a",
       "version_major": 2,
       "version_minor": 0
      },
      "text/plain": [
       "Running Epoch 4 of 15:   0%|          | 0/586 [00:00<?, ?it/s]"
      ]
     },
     "metadata": {},
     "output_type": "display_data"
    },
    {
     "data": {
      "application/vnd.jupyter.widget-view+json": {
       "model_id": "5bca1ed177744f8d9ebab48c0bc023d9",
       "version_major": 2,
       "version_minor": 0
      },
      "text/plain": [
       "  0%|          | 0/1171 [00:00<?, ?it/s]"
      ]
     },
     "metadata": {},
     "output_type": "display_data"
    },
    {
     "data": {
      "application/vnd.jupyter.widget-view+json": {
       "model_id": "ab1992ae88b1486b850d4c9b231c66bd",
       "version_major": 2,
       "version_minor": 0
      },
      "text/plain": [
       "Running Epoch 5 of 15:   0%|          | 0/586 [00:00<?, ?it/s]"
      ]
     },
     "metadata": {},
     "output_type": "display_data"
    },
    {
     "data": {
      "application/vnd.jupyter.widget-view+json": {
       "model_id": "d09fe5e9c45140d08ea0926921a81ab3",
       "version_major": 2,
       "version_minor": 0
      },
      "text/plain": [
       "  0%|          | 0/1171 [00:00<?, ?it/s]"
      ]
     },
     "metadata": {},
     "output_type": "display_data"
    },
    {
     "data": {
      "application/vnd.jupyter.widget-view+json": {
       "model_id": "e119b6a49f0e41bf855a21a8fb7954e6",
       "version_major": 2,
       "version_minor": 0
      },
      "text/plain": [
       "Running Epoch 6 of 15:   0%|          | 0/586 [00:00<?, ?it/s]"
      ]
     },
     "metadata": {},
     "output_type": "display_data"
    },
    {
     "data": {
      "application/vnd.jupyter.widget-view+json": {
       "model_id": "8426e7b22ae8448cb94617c52274a0c6",
       "version_major": 2,
       "version_minor": 0
      },
      "text/plain": [
       "  0%|          | 0/1171 [00:00<?, ?it/s]"
      ]
     },
     "metadata": {},
     "output_type": "display_data"
    }
   ],
   "source": [
    "train_hasoc_df = pd.DataFrame({'text': X_train_hasoc, 'labels': Y_train_hasoc})\n",
    "val_hasoc_df = pd.DataFrame({'text': X_val_hasoc, 'labels': Y_val_hasoc})\n",
    "\n",
    "#hyperparameter optimization\n",
    "\n",
    "hatebert = ClassificationModel(\n",
    "    \"bert\", \n",
    "    \"GroNLP/hateBERT\",\n",
    "    args={\n",
    "        \"learning_rate\": 1e-4,\n",
    "        \"overwrite_output_dir\": True,\n",
    "        \"num_train_epochs\": 15,\n",
    "        \"train_batch_size\": 128,\n",
    "        \"eval_batch_size\": 128,\n",
    "        \"evaluate_during_training\": True, \n",
    "        \"save_eval_checkpoints\": True, \n",
    "        \"save_model_every_epoch\": False,  # because otherwise your hdd will be full in 10 minutes\n",
    "        \"use_early_stopping\": True,\n",
    "        \"early_stopping_patience\": 3,     # stops after x evaluations without improvement\n",
    "        \"early_stopping_delta\": 0.1      # minimum improvement to count as a better model\n",
    "    },\n",
    "    use_cuda=True\n",
    ")\n",
    "\n",
    "hatebert.train_model(train_hasoc_df, eval_df=val_hasoc_df)\n",
    "\n",
    "import pandas as pd\n",
    "\n",
    "# Load the training log\n",
    "training_log = pd.read_csv(\"outputs/training_progress_scores.csv\")\n",
    "\n",
    "# Plot the losses\n",
    "plt.plot(training_log['train_loss'], label='training Loss')\n",
    "plt.plot(training_log['eval_loss'], label='validation Loss')\n",
    "plt.title('Training and validation loss over epochs')\n",
    "plt.xlabel('Evaluation Steps')\n",
    "plt.ylabel('Loss')\n",
    "plt.legend()\n",
    "plt.show()"
   ]
  },
  {
   "cell_type": "code",
   "execution_count": 7,
   "metadata": {},
   "outputs": [
    {
     "data": {
      "application/vnd.jupyter.widget-view+json": {
       "model_id": "fae71a3c9c274e2999e9d2e7f455805c",
       "version_major": 2,
       "version_minor": 0
      },
      "text/plain": [
       "  0%|          | 0/4681 [00:00<?, ?it/s]"
      ]
     },
     "metadata": {},
     "output_type": "display_data"
    },
    {
     "data": {
      "application/vnd.jupyter.widget-view+json": {
       "model_id": "79e5b241a23545128cb2594cdafd453b",
       "version_major": 2,
       "version_minor": 0
      },
      "text/plain": [
       "Epoch:   0%|          | 0/1 [00:00<?, ?it/s]"
      ]
     },
     "metadata": {},
     "output_type": "display_data"
    },
    {
     "data": {
      "application/vnd.jupyter.widget-view+json": {
       "model_id": "823e6e709e7847a3a8abccc8e205d005",
       "version_major": 2,
       "version_minor": 0
      },
      "text/plain": [
       "Running Epoch 0 of 1:   0%|          | 0/586 [00:00<?, ?it/s]"
      ]
     },
     "metadata": {},
     "output_type": "display_data"
    },
    {
     "ename": "TypeError",
     "evalue": "tuple indices must be integers or slices, not str",
     "output_type": "error",
     "traceback": [
      "\u001b[1;31m---------------------------------------------------------------------------\u001b[0m",
      "\u001b[1;31mTypeError\u001b[0m                                 Traceback (most recent call last)",
      "\u001b[1;32mc:\\Users\\mzdog\\Documents\\GitHub\\Subjectivity-Mining\\Assignment 4 - Group 11\\Assignment_4.ipynb Cell 5\u001b[0m line \u001b[0;36m6\n\u001b[0;32m      <a href='vscode-notebook-cell:/c%3A/Users/mzdog/Documents/GitHub/Subjectivity-Mining/Assignment%204%20-%20Group%2011/Assignment_4.ipynb#W5sZmlsZQ%3D%3D?line=2'>3</a>\u001b[0m results \u001b[39m=\u001b[39m hatebert\u001b[39m.\u001b[39mtrain_model(train_hasoc_df, eval_df\u001b[39m=\u001b[39mval_hasoc_df)\n\u001b[0;32m      <a href='vscode-notebook-cell:/c%3A/Users/mzdog/Documents/GitHub/Subjectivity-Mining/Assignment%204%20-%20Group%2011/Assignment_4.ipynb#W5sZmlsZQ%3D%3D?line=4'>5</a>\u001b[0m \u001b[39m# Extract the training and validation losses\u001b[39;00m\n\u001b[1;32m----> <a href='vscode-notebook-cell:/c%3A/Users/mzdog/Documents/GitHub/Subjectivity-Mining/Assignment%204%20-%20Group%2011/Assignment_4.ipynb#W5sZmlsZQ%3D%3D?line=5'>6</a>\u001b[0m train_loss \u001b[39m=\u001b[39m results[\u001b[39m'\u001b[39;49m\u001b[39mtrain_loss\u001b[39;49m\u001b[39m'\u001b[39;49m]\n\u001b[0;32m      <a href='vscode-notebook-cell:/c%3A/Users/mzdog/Documents/GitHub/Subjectivity-Mining/Assignment%204%20-%20Group%2011/Assignment_4.ipynb#W5sZmlsZQ%3D%3D?line=6'>7</a>\u001b[0m eval_loss \u001b[39m=\u001b[39m results[\u001b[39m'\u001b[39m\u001b[39meval_loss\u001b[39m\u001b[39m'\u001b[39m]\n\u001b[0;32m      <a href='vscode-notebook-cell:/c%3A/Users/mzdog/Documents/GitHub/Subjectivity-Mining/Assignment%204%20-%20Group%2011/Assignment_4.ipynb#W5sZmlsZQ%3D%3D?line=8'>9</a>\u001b[0m \u001b[39m# Plot the losses\u001b[39;00m\n",
      "\u001b[1;31mTypeError\u001b[0m: tuple indices must be integers or slices, not str"
     ]
    }
   ],
   "source": [
    "import matplotlib.pyplot as plt\n",
    "\n",
    "results = hatebert.train_model(train_hasoc_df, eval_df=val_hasoc_df)\n",
    "\n",
    "# Extract the training and validation losses\n",
    "train_loss = results['train_loss']\n",
    "eval_loss = results['eval_loss']\n",
    "\n",
    "# Plot the losses\n",
    "plt.plot(train_loss, label='Training Loss')\n",
    "plt.plot(eval_loss, label='Validation Loss')\n",
    "plt.title('Training and Validation Loss')\n",
    "plt.xlabel('Epochs')\n",
    "plt.ylabel('Loss')\n",
    "plt.legend()\n",
    "plt.show()\n"
   ]
  },
  {
   "cell_type": "code",
   "execution_count": 25,
   "metadata": {},
   "outputs": [
    {
     "name": "stderr",
     "output_type": "stream",
     "text": [
      "Some weights of BertForSequenceClassification were not initialized from the model checkpoint at GroNLP/hateBERT and are newly initialized: ['classifier.weight', 'classifier.bias']\n",
      "You should probably TRAIN this model on a down-stream task to be able to use it for predictions and inference.\n",
      "Some weights of BertForSequenceClassification were not initialized from the model checkpoint at GroNLP/hateBERT and are newly initialized: ['classifier.weight', 'classifier.bias']\n",
      "You should probably TRAIN this model on a down-stream task to be able to use it for predictions and inference.\n"
     ]
    },
    {
     "data": {
      "application/vnd.jupyter.widget-view+json": {
       "model_id": "60f0e3eeafb54fc8a326b25a4857d83e",
       "version_major": 2,
       "version_minor": 0
      },
      "text/plain": [
       "  0%|          | 0/5852 [00:00<?, ?it/s]"
      ]
     },
     "metadata": {},
     "output_type": "display_data"
    },
    {
     "ename": "KeyboardInterrupt",
     "evalue": "",
     "output_type": "error",
     "traceback": [
      "\u001b[1;31m---------------------------------------------------------------------------\u001b[0m",
      "\u001b[1;31mIndexError\u001b[0m                                Traceback (most recent call last)",
      "File \u001b[1;32mc:\\Users\\mzdog\\anaconda3\\lib\\multiprocessing\\pool.py:856\u001b[0m, in \u001b[0;36mIMapIterator.next\u001b[1;34m(self, timeout)\u001b[0m\n\u001b[0;32m    855\u001b[0m \u001b[39mtry\u001b[39;00m:\n\u001b[1;32m--> 856\u001b[0m     item \u001b[39m=\u001b[39m \u001b[39mself\u001b[39;49m\u001b[39m.\u001b[39;49m_items\u001b[39m.\u001b[39;49mpopleft()\n\u001b[0;32m    857\u001b[0m \u001b[39mexcept\u001b[39;00m \u001b[39mIndexError\u001b[39;00m:\n",
      "\u001b[1;31mIndexError\u001b[0m: pop from an empty deque",
      "\nDuring handling of the above exception, another exception occurred:\n",
      "\u001b[1;31mKeyboardInterrupt\u001b[0m                         Traceback (most recent call last)",
      "\u001b[1;32mc:\\Users\\mzdog\\Documents\\GitHub\\Subjectivity-Mining\\Assignment 4 - Group 11\\Assignment_4.ipynb Cell 6\u001b[0m line \u001b[0;36m1\n\u001b[0;32m      <a href='vscode-notebook-cell:/c%3A/Users/mzdog/Documents/GitHub/Subjectivity-Mining/Assignment%204%20-%20Group%2011/Assignment_4.ipynb#W4sZmlsZQ%3D%3D?line=4'>5</a>\u001b[0m hatebert_model \u001b[39m=\u001b[39m BertForSequenceClassification\u001b[39m.\u001b[39mfrom_pretrained(\u001b[39m'\u001b[39m\u001b[39mGroNLP/hateBERT\u001b[39m\u001b[39m'\u001b[39m)\n\u001b[0;32m      <a href='vscode-notebook-cell:/c%3A/Users/mzdog/Documents/GitHub/Subjectivity-Mining/Assignment%204%20-%20Group%2011/Assignment_4.ipynb#W4sZmlsZQ%3D%3D?line=6'>7</a>\u001b[0m hatebert \u001b[39m=\u001b[39m ClassificationModel(\u001b[39m\"\u001b[39m\u001b[39mbert\u001b[39m\u001b[39m\"\u001b[39m, \u001b[39m\"\u001b[39m\u001b[39mGroNLP/hateBERT\u001b[39m\u001b[39m\"\u001b[39m, \n\u001b[0;32m      <a href='vscode-notebook-cell:/c%3A/Users/mzdog/Documents/GitHub/Subjectivity-Mining/Assignment%204%20-%20Group%2011/Assignment_4.ipynb#W4sZmlsZQ%3D%3D?line=7'>8</a>\u001b[0m                                args\u001b[39m=\u001b[39m{\u001b[39m\"\u001b[39m\u001b[39mlearning_rate\u001b[39m\u001b[39m\"\u001b[39m: \u001b[39m1e-4\u001b[39m,\n\u001b[0;32m      <a href='vscode-notebook-cell:/c%3A/Users/mzdog/Documents/GitHub/Subjectivity-Mining/Assignment%204%20-%20Group%2011/Assignment_4.ipynb#W4sZmlsZQ%3D%3D?line=8'>9</a>\u001b[0m                                      \u001b[39m\"\u001b[39m\u001b[39moverwrite_output_dir\u001b[39m\u001b[39m\"\u001b[39m: \u001b[39mTrue\u001b[39;00m},\n\u001b[0;32m     <a href='vscode-notebook-cell:/c%3A/Users/mzdog/Documents/GitHub/Subjectivity-Mining/Assignment%204%20-%20Group%2011/Assignment_4.ipynb#W4sZmlsZQ%3D%3D?line=9'>10</a>\u001b[0m                                use_cuda\u001b[39m=\u001b[39m\u001b[39mTrue\u001b[39;00m)\n\u001b[1;32m---> <a href='vscode-notebook-cell:/c%3A/Users/mzdog/Documents/GitHub/Subjectivity-Mining/Assignment%204%20-%20Group%2011/Assignment_4.ipynb#W4sZmlsZQ%3D%3D?line=11'>12</a>\u001b[0m hatebert\u001b[39m.\u001b[39;49mtrain_model(OLIDv1_train_df)\n\u001b[0;32m     <a href='vscode-notebook-cell:/c%3A/Users/mzdog/Documents/GitHub/Subjectivity-Mining/Assignment%204%20-%20Group%2011/Assignment_4.ipynb#W4sZmlsZQ%3D%3D?line=12'>13</a>\u001b[0m predicted, probabilities \u001b[39m=\u001b[39m hatebert\u001b[39m.\u001b[39mpredict(OLIDv1_test_df\u001b[39m.\u001b[39mtext\u001b[39m.\u001b[39mto_list())\n\u001b[0;32m     <a href='vscode-notebook-cell:/c%3A/Users/mzdog/Documents/GitHub/Subjectivity-Mining/Assignment%204%20-%20Group%2011/Assignment_4.ipynb#W4sZmlsZQ%3D%3D?line=13'>14</a>\u001b[0m \u001b[39mprint\u001b[39m(classification_report(OLIDv1_test_df\u001b[39m.\u001b[39mlabels, predicted))\n",
      "File \u001b[1;32mc:\\Users\\mzdog\\anaconda3\\lib\\site-packages\\simpletransformers\\classification\\classification_model.py:619\u001b[0m, in \u001b[0;36mClassificationModel.train_model\u001b[1;34m(self, train_df, multi_label, output_dir, show_running_loss, args, eval_df, verbose, **kwargs)\u001b[0m\n\u001b[0;32m    612\u001b[0m         warnings\u001b[39m.\u001b[39mwarn(\n\u001b[0;32m    613\u001b[0m             \u001b[39m\"\u001b[39m\u001b[39mDataframe headers not specified. Falling back to using column 0 as text and column 1 as labels.\u001b[39m\u001b[39m\"\u001b[39m\n\u001b[0;32m    614\u001b[0m         )\n\u001b[0;32m    615\u001b[0m         train_examples \u001b[39m=\u001b[39m (\n\u001b[0;32m    616\u001b[0m             train_df\u001b[39m.\u001b[39miloc[:, \u001b[39m0\u001b[39m]\u001b[39m.\u001b[39mastype(\u001b[39mstr\u001b[39m)\u001b[39m.\u001b[39mtolist(),\n\u001b[0;32m    617\u001b[0m             train_df\u001b[39m.\u001b[39miloc[:, \u001b[39m1\u001b[39m]\u001b[39m.\u001b[39mtolist(),\n\u001b[0;32m    618\u001b[0m         )\n\u001b[1;32m--> 619\u001b[0m     train_dataset \u001b[39m=\u001b[39m \u001b[39mself\u001b[39;49m\u001b[39m.\u001b[39;49mload_and_cache_examples(\n\u001b[0;32m    620\u001b[0m         train_examples, verbose\u001b[39m=\u001b[39;49mverbose\n\u001b[0;32m    621\u001b[0m     )\n\u001b[0;32m    622\u001b[0m train_sampler \u001b[39m=\u001b[39m RandomSampler(train_dataset)\n\u001b[0;32m    623\u001b[0m train_dataloader \u001b[39m=\u001b[39m DataLoader(\n\u001b[0;32m    624\u001b[0m     train_dataset,\n\u001b[0;32m    625\u001b[0m     sampler\u001b[39m=\u001b[39mtrain_sampler,\n\u001b[0;32m    626\u001b[0m     batch_size\u001b[39m=\u001b[39m\u001b[39mself\u001b[39m\u001b[39m.\u001b[39margs\u001b[39m.\u001b[39mtrain_batch_size,\n\u001b[0;32m    627\u001b[0m     num_workers\u001b[39m=\u001b[39m\u001b[39mself\u001b[39m\u001b[39m.\u001b[39margs\u001b[39m.\u001b[39mdataloader_num_workers,\n\u001b[0;32m    628\u001b[0m )\n",
      "File \u001b[1;32mc:\\Users\\mzdog\\anaconda3\\lib\\site-packages\\simpletransformers\\classification\\classification_model.py:1821\u001b[0m, in \u001b[0;36mClassificationModel.load_and_cache_examples\u001b[1;34m(self, examples, evaluate, no_cache, multi_label, verbose, silent)\u001b[0m\n\u001b[0;32m   1819\u001b[0m         \u001b[39mreturn\u001b[39;00m dataset\n\u001b[0;32m   1820\u001b[0m \u001b[39melse\u001b[39;00m:\n\u001b[1;32m-> 1821\u001b[0m     dataset \u001b[39m=\u001b[39m ClassificationDataset(\n\u001b[0;32m   1822\u001b[0m         examples,\n\u001b[0;32m   1823\u001b[0m         \u001b[39mself\u001b[39;49m\u001b[39m.\u001b[39;49mtokenizer,\n\u001b[0;32m   1824\u001b[0m         \u001b[39mself\u001b[39;49m\u001b[39m.\u001b[39;49margs,\n\u001b[0;32m   1825\u001b[0m         mode\u001b[39m=\u001b[39;49mmode,\n\u001b[0;32m   1826\u001b[0m         multi_label\u001b[39m=\u001b[39;49mmulti_label,\n\u001b[0;32m   1827\u001b[0m         output_mode\u001b[39m=\u001b[39;49moutput_mode,\n\u001b[0;32m   1828\u001b[0m         no_cache\u001b[39m=\u001b[39;49mno_cache,\n\u001b[0;32m   1829\u001b[0m     )\n\u001b[0;32m   1830\u001b[0m     \u001b[39mreturn\u001b[39;00m dataset\n",
      "File \u001b[1;32mc:\\Users\\mzdog\\anaconda3\\lib\\site-packages\\simpletransformers\\classification\\classification_utils.py:282\u001b[0m, in \u001b[0;36mClassificationDataset.__init__\u001b[1;34m(self, data, tokenizer, args, mode, multi_label, output_mode, no_cache)\u001b[0m\n\u001b[0;32m    281\u001b[0m \u001b[39mdef\u001b[39;00m \u001b[39m__init__\u001b[39m(\u001b[39mself\u001b[39m, data, tokenizer, args, mode, multi_label, output_mode, no_cache):\n\u001b[1;32m--> 282\u001b[0m     \u001b[39mself\u001b[39m\u001b[39m.\u001b[39mexamples, \u001b[39mself\u001b[39m\u001b[39m.\u001b[39mlabels \u001b[39m=\u001b[39m build_classification_dataset(\n\u001b[0;32m    283\u001b[0m         data, tokenizer, args, mode, multi_label, output_mode, no_cache\n\u001b[0;32m    284\u001b[0m     )\n",
      "File \u001b[1;32mc:\\Users\\mzdog\\anaconda3\\lib\\site-packages\\simpletransformers\\classification\\classification_utils.py:249\u001b[0m, in \u001b[0;36mbuild_classification_dataset\u001b[1;34m(data, tokenizer, args, mode, multi_label, output_mode, no_cache)\u001b[0m\n\u001b[0;32m    243\u001b[0m         data \u001b[39m=\u001b[39m [\n\u001b[0;32m    244\u001b[0m             (text_a[i : i \u001b[39m+\u001b[39m chunksize], \u001b[39mNone\u001b[39;00m, tokenizer, args\u001b[39m.\u001b[39mmax_seq_length)\n\u001b[0;32m    245\u001b[0m             \u001b[39mfor\u001b[39;00m i \u001b[39min\u001b[39;00m \u001b[39mrange\u001b[39m(\u001b[39m0\u001b[39m, \u001b[39mlen\u001b[39m(text_a), chunksize)\n\u001b[0;32m    246\u001b[0m         ]\n\u001b[0;32m    248\u001b[0m     \u001b[39mwith\u001b[39;00m Pool(args\u001b[39m.\u001b[39mprocess_count) \u001b[39mas\u001b[39;00m p:\n\u001b[1;32m--> 249\u001b[0m         examples \u001b[39m=\u001b[39m \u001b[39mlist\u001b[39;49m(\n\u001b[0;32m    250\u001b[0m             tqdm(\n\u001b[0;32m    251\u001b[0m                 p\u001b[39m.\u001b[39;49mimap(preprocess_data_multiprocessing, data),\n\u001b[0;32m    252\u001b[0m                 total\u001b[39m=\u001b[39;49m\u001b[39mlen\u001b[39;49m(text_a),\n\u001b[0;32m    253\u001b[0m                 disable\u001b[39m=\u001b[39;49margs\u001b[39m.\u001b[39;49msilent,\n\u001b[0;32m    254\u001b[0m             )\n\u001b[0;32m    255\u001b[0m         )\n\u001b[0;32m    257\u001b[0m     examples \u001b[39m=\u001b[39m {\n\u001b[0;32m    258\u001b[0m         key: torch\u001b[39m.\u001b[39mcat([example[key] \u001b[39mfor\u001b[39;00m example \u001b[39min\u001b[39;00m examples])\n\u001b[0;32m    259\u001b[0m         \u001b[39mfor\u001b[39;00m key \u001b[39min\u001b[39;00m examples[\u001b[39m0\u001b[39m]\n\u001b[0;32m    260\u001b[0m     }\n\u001b[0;32m    261\u001b[0m \u001b[39melse\u001b[39;00m:\n",
      "File \u001b[1;32mc:\\Users\\mzdog\\anaconda3\\lib\\site-packages\\tqdm\\notebook.py:259\u001b[0m, in \u001b[0;36mtqdm_notebook.__iter__\u001b[1;34m(self)\u001b[0m\n\u001b[0;32m    257\u001b[0m \u001b[39mtry\u001b[39;00m:\n\u001b[0;32m    258\u001b[0m     it \u001b[39m=\u001b[39m \u001b[39msuper\u001b[39m(tqdm_notebook, \u001b[39mself\u001b[39m)\u001b[39m.\u001b[39m\u001b[39m__iter__\u001b[39m()\n\u001b[1;32m--> 259\u001b[0m     \u001b[39mfor\u001b[39;00m obj \u001b[39min\u001b[39;00m it:\n\u001b[0;32m    260\u001b[0m         \u001b[39m# return super(tqdm...) will not catch exception\u001b[39;00m\n\u001b[0;32m    261\u001b[0m         \u001b[39myield\u001b[39;00m obj\n\u001b[0;32m    262\u001b[0m \u001b[39m# NB: except ... [ as ...] breaks IPython async KeyboardInterrupt\u001b[39;00m\n",
      "File \u001b[1;32mc:\\Users\\mzdog\\anaconda3\\lib\\site-packages\\tqdm\\std.py:1195\u001b[0m, in \u001b[0;36mtqdm.__iter__\u001b[1;34m(self)\u001b[0m\n\u001b[0;32m   1192\u001b[0m time \u001b[39m=\u001b[39m \u001b[39mself\u001b[39m\u001b[39m.\u001b[39m_time\n\u001b[0;32m   1194\u001b[0m \u001b[39mtry\u001b[39;00m:\n\u001b[1;32m-> 1195\u001b[0m     \u001b[39mfor\u001b[39;00m obj \u001b[39min\u001b[39;00m iterable:\n\u001b[0;32m   1196\u001b[0m         \u001b[39myield\u001b[39;00m obj\n\u001b[0;32m   1197\u001b[0m         \u001b[39m# Update and possibly print the progressbar.\u001b[39;00m\n\u001b[0;32m   1198\u001b[0m         \u001b[39m# Note: does not call self.update(1) for speed optimisation.\u001b[39;00m\n",
      "File \u001b[1;32mc:\\Users\\mzdog\\anaconda3\\lib\\multiprocessing\\pool.py:861\u001b[0m, in \u001b[0;36mIMapIterator.next\u001b[1;34m(self, timeout)\u001b[0m\n\u001b[0;32m    859\u001b[0m     \u001b[39mself\u001b[39m\u001b[39m.\u001b[39m_pool \u001b[39m=\u001b[39m \u001b[39mNone\u001b[39;00m\n\u001b[0;32m    860\u001b[0m     \u001b[39mraise\u001b[39;00m \u001b[39mStopIteration\u001b[39;00m \u001b[39mfrom\u001b[39;00m \u001b[39mNone\u001b[39;00m\n\u001b[1;32m--> 861\u001b[0m \u001b[39mself\u001b[39;49m\u001b[39m.\u001b[39;49m_cond\u001b[39m.\u001b[39;49mwait(timeout)\n\u001b[0;32m    862\u001b[0m \u001b[39mtry\u001b[39;00m:\n\u001b[0;32m    863\u001b[0m     item \u001b[39m=\u001b[39m \u001b[39mself\u001b[39m\u001b[39m.\u001b[39m_items\u001b[39m.\u001b[39mpopleft()\n",
      "File \u001b[1;32mc:\\Users\\mzdog\\anaconda3\\lib\\threading.py:320\u001b[0m, in \u001b[0;36mCondition.wait\u001b[1;34m(self, timeout)\u001b[0m\n\u001b[0;32m    318\u001b[0m \u001b[39mtry\u001b[39;00m:    \u001b[39m# restore state no matter what (e.g., KeyboardInterrupt)\u001b[39;00m\n\u001b[0;32m    319\u001b[0m     \u001b[39mif\u001b[39;00m timeout \u001b[39mis\u001b[39;00m \u001b[39mNone\u001b[39;00m:\n\u001b[1;32m--> 320\u001b[0m         waiter\u001b[39m.\u001b[39;49macquire()\n\u001b[0;32m    321\u001b[0m         gotit \u001b[39m=\u001b[39m \u001b[39mTrue\u001b[39;00m\n\u001b[0;32m    322\u001b[0m     \u001b[39melse\u001b[39;00m:\n",
      "\u001b[1;31mKeyboardInterrupt\u001b[0m: "
     ]
    }
   ],
   "source": [
    "# HateBERT (Read: https://aclanthology.org/2021.woah-1.3.pdf)\n",
    "\n",
    "hateBERT_path = 'GroNLP/hateBERT'\n",
    "hatebert_tokenizer = BertTokenizer.from_pretrained(hateBERT_path)\n",
    "hatebert_model = BertForSequenceClassification.from_pretrained('GroNLP/hateBERT')\n",
    "\n",
    "hatebert = ClassificationModel(\"bert\", \"GroNLP/hateBERT\", \n",
    "                               args={\"learning_rate\": 1e-4,\n",
    "                                     \"overwrite_output_dir\": True},\n",
    "                               use_cuda=True)\n",
    "\n",
    "hatebert.train_model(OLIDv1_train_df)\n",
    "predicted, probabilities = hatebert.predict(OLIDv1_test_df.text.to_list())\n",
    "print(classification_report(OLIDv1_test_df.labels, predicted))"
   ]
  },
  {
   "cell_type": "code",
   "execution_count": null,
   "metadata": {},
   "outputs": [],
   "source": [
    "# # CHECKPOINT VALUES\n",
    "# # SAVE_EVERY_N_EPOCHS = 3\n",
    "# steps_per_epoch = math.floor(len(train_df) / SAVE_EVERY_N_EPOCHS)\n",
    "# if(len(train_df) % SAVE_EVERY_N_EPOCHS > 0):\n",
    "#     steps_per_epoch += 1\n",
    "\n",
    "# RoBERTa: https://arxiv.org/pdf/1907.11692.pdf\n",
    "# CONFIGS: https://simpletransformers.ai/docs/usage/#configuring-a-simple-transformers-model\n",
    "\n",
    "roberta = ClassificationModel(\"roberta\", \"roberta-base\", \n",
    "                              args = {\"num_train_epochs\": 10,\n",
    "                                      \"learning_rate\": 1e-4,\n",
    "                                      \"save_best_model\": True,\n",
    "                                      \"overwrite_output_dir\": True},  use_cuda = cuda_available)\n",
    "\n",
    "roberta.train_model(OLIDv1_train_df)\n",
    "predicted, probabilities = roberta.predict(OLIDv1_test_df.text.to_list())\n",
    "print(classification_report(OLIDv1_test_df.labels, predicted))\n",
    "\n",
    "# roberta.save_model(\"Checkpoints\\\\roberta-base\")"
   ]
  },
  {
   "cell_type": "code",
   "execution_count": 65,
   "metadata": {},
   "outputs": [],
   "source": [
    "from sklearn.model_selection import train_test_split\n",
    "\n",
    "# Assuming OLIDv1_train_df is your original training dataset\n",
    "OLIDv1_train_df, OLIDv1_val_df = train_test_split(OLIDv1_train_df, test_size=0.2, random_state=42)"
   ]
  },
  {
   "cell_type": "code",
   "execution_count": 67,
   "metadata": {},
   "outputs": [
    {
     "name": "stderr",
     "output_type": "stream",
     "text": [
      "Some weights of RobertaForSequenceClassification were not initialized from the model checkpoint at roberta-base and are newly initialized: ['classifier.dense.bias', 'classifier.out_proj.weight', 'classifier.dense.weight', 'classifier.out_proj.bias']\n",
      "You should probably TRAIN this model on a down-stream task to be able to use it for predictions and inference.\n"
     ]
    },
    {
     "data": {
      "application/vnd.jupyter.widget-view+json": {
       "model_id": "2f333b8b32c44f448266a257933d4a9f",
       "version_major": 2,
       "version_minor": 0
      },
      "text/plain": [
       "  0%|          | 0/4681 [00:00<?, ?it/s]"
      ]
     },
     "metadata": {},
     "output_type": "display_data"
    },
    {
     "data": {
      "application/vnd.jupyter.widget-view+json": {
       "model_id": "6841d9b8e98a44b2a30994d585abf200",
       "version_major": 2,
       "version_minor": 0
      },
      "text/plain": [
       "Epoch:   0%|          | 0/10 [00:00<?, ?it/s]"
      ]
     },
     "metadata": {},
     "output_type": "display_data"
    },
    {
     "data": {
      "application/vnd.jupyter.widget-view+json": {
       "model_id": "0f558a9767d94cec8a02bd41b1ef6d67",
       "version_major": 2,
       "version_minor": 0
      },
      "text/plain": [
       "Running Epoch 0 of 10:   0%|          | 0/586 [00:00<?, ?it/s]"
      ]
     },
     "metadata": {},
     "output_type": "display_data"
    },
    {
     "data": {
      "application/vnd.jupyter.widget-view+json": {
       "model_id": "ed84e0bac8f04b64a35207b9a902f3e8",
       "version_major": 2,
       "version_minor": 0
      },
      "text/plain": [
       "  0%|          | 0/1171 [00:00<?, ?it/s]"
      ]
     },
     "metadata": {},
     "output_type": "display_data"
    },
    {
     "data": {
      "application/vnd.jupyter.widget-view+json": {
       "model_id": "a28bb645ec6044dc8c1b51e6c1f491d1",
       "version_major": 2,
       "version_minor": 0
      },
      "text/plain": [
       "Running Epoch 1 of 10:   0%|          | 0/586 [00:00<?, ?it/s]"
      ]
     },
     "metadata": {},
     "output_type": "display_data"
    },
    {
     "data": {
      "application/vnd.jupyter.widget-view+json": {
       "model_id": "36c5c43183b448328e037e28f98fe94e",
       "version_major": 2,
       "version_minor": 0
      },
      "text/plain": [
       "  0%|          | 0/1171 [00:00<?, ?it/s]"
      ]
     },
     "metadata": {},
     "output_type": "display_data"
    },
    {
     "data": {
      "application/vnd.jupyter.widget-view+json": {
       "model_id": "3df6650f7b4b49c495b90077ca22be10",
       "version_major": 2,
       "version_minor": 0
      },
      "text/plain": [
       "Running Epoch 2 of 10:   0%|          | 0/586 [00:00<?, ?it/s]"
      ]
     },
     "metadata": {},
     "output_type": "display_data"
    },
    {
     "data": {
      "application/vnd.jupyter.widget-view+json": {
       "model_id": "5276c74173f846ea8ca689ee7d5b1420",
       "version_major": 2,
       "version_minor": 0
      },
      "text/plain": [
       "  0%|          | 0/1171 [00:00<?, ?it/s]"
      ]
     },
     "metadata": {},
     "output_type": "display_data"
    },
    {
     "data": {
      "application/vnd.jupyter.widget-view+json": {
       "model_id": "51d219327c3946b7b8a2cd626ed6907b",
       "version_major": 2,
       "version_minor": 0
      },
      "text/plain": [
       "Running Epoch 3 of 10:   0%|          | 0/586 [00:00<?, ?it/s]"
      ]
     },
     "metadata": {},
     "output_type": "display_data"
    },
    {
     "data": {
      "application/vnd.jupyter.widget-view+json": {
       "model_id": "c24126d342cd4ff194f78f82c1e4b5ae",
       "version_major": 2,
       "version_minor": 0
      },
      "text/plain": [
       "  0%|          | 0/1171 [00:00<?, ?it/s]"
      ]
     },
     "metadata": {},
     "output_type": "display_data"
    },
    {
     "data": {
      "application/vnd.jupyter.widget-view+json": {
       "model_id": "4faa6d96675d4e3390375f3608890b5c",
       "version_major": 2,
       "version_minor": 0
      },
      "text/plain": [
       "Running Epoch 4 of 10:   0%|          | 0/586 [00:00<?, ?it/s]"
      ]
     },
     "metadata": {},
     "output_type": "display_data"
    },
    {
     "data": {
      "application/vnd.jupyter.widget-view+json": {
       "model_id": "840d00a6a06845ffb93afda59c820c42",
       "version_major": 2,
       "version_minor": 0
      },
      "text/plain": [
       "  0%|          | 0/1171 [00:00<?, ?it/s]"
      ]
     },
     "metadata": {},
     "output_type": "display_data"
    },
    {
     "data": {
      "application/vnd.jupyter.widget-view+json": {
       "model_id": "42a23e23478b45888396db454521123d",
       "version_major": 2,
       "version_minor": 0
      },
      "text/plain": [
       "Running Epoch 5 of 10:   0%|          | 0/586 [00:00<?, ?it/s]"
      ]
     },
     "metadata": {},
     "output_type": "display_data"
    },
    {
     "data": {
      "application/vnd.jupyter.widget-view+json": {
       "model_id": "c00d585bc73148459a0ca5ecf422556b",
       "version_major": 2,
       "version_minor": 0
      },
      "text/plain": [
       "  0%|          | 0/1171 [00:00<?, ?it/s]"
      ]
     },
     "metadata": {},
     "output_type": "display_data"
    },
    {
     "data": {
      "application/vnd.jupyter.widget-view+json": {
       "model_id": "8905057d9d474f0ab6218a13a9e5715b",
       "version_major": 2,
       "version_minor": 0
      },
      "text/plain": [
       "Running Epoch 6 of 10:   0%|          | 0/586 [00:00<?, ?it/s]"
      ]
     },
     "metadata": {},
     "output_type": "display_data"
    },
    {
     "data": {
      "application/vnd.jupyter.widget-view+json": {
       "model_id": "bed4da84f06c4955a1251024297bf684",
       "version_major": 2,
       "version_minor": 0
      },
      "text/plain": [
       "  0%|          | 0/1171 [00:00<?, ?it/s]"
      ]
     },
     "metadata": {},
     "output_type": "display_data"
    },
    {
     "data": {
      "application/vnd.jupyter.widget-view+json": {
       "model_id": "9fe9b2fc4822452688da55afbd64b6a0",
       "version_major": 2,
       "version_minor": 0
      },
      "text/plain": [
       "Running Epoch 7 of 10:   0%|          | 0/586 [00:00<?, ?it/s]"
      ]
     },
     "metadata": {},
     "output_type": "display_data"
    },
    {
     "data": {
      "application/vnd.jupyter.widget-view+json": {
       "model_id": "53020612e8c84e92828b0290c3f57675",
       "version_major": 2,
       "version_minor": 0
      },
      "text/plain": [
       "  0%|          | 0/1171 [00:00<?, ?it/s]"
      ]
     },
     "metadata": {},
     "output_type": "display_data"
    },
    {
     "data": {
      "application/vnd.jupyter.widget-view+json": {
       "model_id": "94c89b6e3994447e90c2719a422cbb14",
       "version_major": 2,
       "version_minor": 0
      },
      "text/plain": [
       "  0%|          | 0/1171 [00:00<?, ?it/s]"
      ]
     },
     "metadata": {},
     "output_type": "display_data"
    },
    {
     "data": {
      "application/vnd.jupyter.widget-view+json": {
       "model_id": "1428ff418e354419b3e31fcb482f0b18",
       "version_major": 2,
       "version_minor": 0
      },
      "text/plain": [
       "Running Epoch 8 of 10:   0%|          | 0/586 [00:00<?, ?it/s]"
      ]
     },
     "metadata": {},
     "output_type": "display_data"
    },
    {
     "data": {
      "application/vnd.jupyter.widget-view+json": {
       "model_id": "35ec83e18168441ebb69971a22f7e262",
       "version_major": 2,
       "version_minor": 0
      },
      "text/plain": [
       "  0%|          | 0/1171 [00:00<?, ?it/s]"
      ]
     },
     "metadata": {},
     "output_type": "display_data"
    },
    {
     "data": {
      "application/vnd.jupyter.widget-view+json": {
       "model_id": "9010f5a515fd4db8a0afb96603c4af8d",
       "version_major": 2,
       "version_minor": 0
      },
      "text/plain": [
       "Running Epoch 9 of 10:   0%|          | 0/586 [00:00<?, ?it/s]"
      ]
     },
     "metadata": {},
     "output_type": "display_data"
    },
    {
     "data": {
      "application/vnd.jupyter.widget-view+json": {
       "model_id": "aa21de9d9f3544d3a29dd328c29db4e6",
       "version_major": 2,
       "version_minor": 0
      },
      "text/plain": [
       "  0%|          | 0/1171 [00:00<?, ?it/s]"
      ]
     },
     "metadata": {},
     "output_type": "display_data"
    },
    {
     "data": {
      "image/png": "[encoded data removed]",
      "text/plain": [
       "<Figure size 640x480 with 1 Axes>"
      ]
     },
     "metadata": {},
     "output_type": "display_data"
    }
   ],
   "source": [
    "from simpletransformers.classification import ClassificationModel\n",
    "import pandas as pd\n",
    "import matplotlib.pyplot as plt\n",
    "\n",
    "# Assuming OLIDv1_train_df and OLIDv1_val_df are your training and validation datasets\n",
    "\n",
    "roberta_args = {\n",
    "    \"num_train_epochs\": 10,\n",
    "    \"learning_rate\": 1e-4,\n",
    "    \"save_best_model\": True,\n",
    "    \"overwrite_output_dir\": True,\n",
    "    \"evaluate_during_training\": True,  # Important for evaluation during training\n",
    "    \"evaluate_during_training_steps\": len(OLIDv1_train_df)  # Evaluate after each epoch\n",
    "}\n",
    "\n",
    "roberta = ClassificationModel(\"roberta\", \"roberta-base\", args=roberta_args, use_cuda=cuda_available)\n",
    "\n",
    "# Train with evaluation\n",
    "roberta.train_model(OLIDv1_train_df, eval_df=OLIDv1_val_df)\n",
    "\n",
    "# Load training progress\n",
    "progress = pd.read_csv('outputs/training_progress_scores.csv')\n",
    "\n",
    "# Plot training and evaluation loss\n",
    "plt.plot(progress['global_step'], progress['train_loss'], label='Train Loss')\n",
    "plt.plot(progress['global_step'], progress['eval_loss'], label='Eval Loss', linestyle='--')\n",
    "plt.xlabel('Global Step')\n",
    "plt.ylabel('Loss')\n",
    "plt.legend()\n",
    "plt.title('Training and Evaluation Loss Across Epochs')\n",
    "plt.show()"
   ]
  },
  {
   "cell_type": "code",
   "execution_count": 38,
   "metadata": {},
   "outputs": [
    {
     "data": {
      "application/vnd.jupyter.widget-view+json": {
       "model_id": "8e27c8489c004202a749345986aa43bc",
       "version_major": 2,
       "version_minor": 0
      },
      "text/plain": [
       "  0%|          | 0/860 [00:00<?, ?it/s]"
      ]
     },
     "metadata": {},
     "output_type": "display_data"
    },
    {
     "data": {
      "application/vnd.jupyter.widget-view+json": {
       "model_id": "fa454402cb704f88a1cb4aaa661cfab0",
       "version_major": 2,
       "version_minor": 0
      },
      "text/plain": [
       "Running Evaluation:   0%|          | 0/108 [00:00<?, ?it/s]"
      ]
     },
     "metadata": {},
     "output_type": "display_data"
    },
    {
     "name": "stdout",
     "output_type": "stream",
     "text": [
      "mcc: 0.0\n",
      "tp: 240\n",
      "tn: 0\n",
      "fp: 620\n",
      "fn: 0\n",
      "auroc: 0.4694018817204301\n",
      "auprc: 0.2590832732061609\n",
      "eval_loss: 0.7213276050708912\n"
     ]
    }
   ],
   "source": [
    "result, model_outputs, wrong_predictions = roberta.eval_model(OLIDv1_test_df)\n",
    "for i in result:\n",
    "    print (i + ':', result[i])\n",
    "\n",
    "# mcc: Matthews Correlation Coefficient\n",
    "# auroc: Area Under the Receiver Operating Characteristic Curve\n",
    "# auprc: Area Under the Precision-Recall Curve\n",
    "# eval_loss: Evaluation Loss (Cross Entropy Loss)"
   ]
  },
  {
   "cell_type": "code",
   "execution_count": null,
   "metadata": {},
   "outputs": [],
   "source": []
  }
 ],
 "metadata": {
  "colab": {
   "authorship_tag": "ABX9TyN8iZK0zVDjRD0sqzKqeAqQ",
   "include_colab_link": true,
   "provenance": []
  },
  "kernelspec": {
   "display_name": "Python 3 (ipykernel)",
   "language": "python",
   "name": "python3"
  },
  "language_info": {
   "codemirror_mode": {
    "name": "ipython",
    "version": 3
   },
   "file_extension": ".py",
   "mimetype": "text/x-python",
   "name": "python",
   "nbconvert_exporter": "python",
   "pygments_lexer": "ipython3",
   "version": "3.9.16"
  }
 },
 "nbformat": 4,
 "nbformat_minor": 1
}
