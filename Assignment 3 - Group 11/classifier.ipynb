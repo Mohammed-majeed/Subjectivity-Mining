{
 "cells": [
  {
   "cell_type": "code",
   "execution_count": 1,
   "id": "41e216e0",
   "metadata": {},
   "outputs": [],
   "source": [
    "import pandas as pd\n",
    "import numpy as np\n",
    "import matplotlib.pyplot as plt\n",
    "from sklearn.metrics import confusion_matrix\n",
    "import seaborn as sns"
   ]
  },
  {
   "cell_type": "code",
   "execution_count": 2,
   "id": "71725c6e",
   "metadata": {
    "scrolled": true
   },
   "outputs": [],
   "source": [
    "merged_path = './merged_lexicon.csv'\n",
    "merged = pd.read_csv(merged_path)  \n",
    "test_path = './Data/olid-test.csv'\n",
    "test = pd.read_csv(test_path)  \n",
    "pd.set_option('display.max_colwidth', None)"
   ]
  },
  {
   "cell_type": "markdown",
   "id": "19566486",
   "metadata": {},
   "source": [
    "# Design a (simple) lexicon-lookup approach"
   ]
  },
  {
   "cell_type": "code",
   "execution_count": 3,
   "id": "4432c841",
   "metadata": {
    "scrolled": false
   },
   "outputs": [
    {
     "data": {
      "text/html": [
       "<div>\n",
       "<style scoped>\n",
       "    .dataframe tbody tr th:only-of-type {\n",
       "        vertical-align: middle;\n",
       "    }\n",
       "\n",
       "    .dataframe tbody tr th {\n",
       "        vertical-align: top;\n",
       "    }\n",
       "\n",
       "    .dataframe thead th {\n",
       "        text-align: right;\n",
       "    }\n",
       "</style>\n",
       "<table border=\"1\" class=\"dataframe\">\n",
       "  <thead>\n",
       "    <tr style=\"text-align: right;\">\n",
       "      <th></th>\n",
       "      <th>unit</th>\n",
       "      <th>hate-label</th>\n",
       "    </tr>\n",
       "  </thead>\n",
       "  <tbody>\n",
       "    <tr>\n",
       "      <th>0</th>\n",
       "      <td>%e2%80%99ndrangheta</td>\n",
       "      <td>0</td>\n",
       "    </tr>\n",
       "    <tr>\n",
       "      <th>1</th>\n",
       "      <td>'ndrangheta</td>\n",
       "      <td>0</td>\n",
       "    </tr>\n",
       "    <tr>\n",
       "      <th>2</th>\n",
       "      <td>(0, 0, 0)</td>\n",
       "      <td>1</td>\n",
       "    </tr>\n",
       "    <tr>\n",
       "      <th>3</th>\n",
       "      <td>(to get) dumped</td>\n",
       "      <td>0</td>\n",
       "    </tr>\n",
       "    <tr>\n",
       "      <th>4</th>\n",
       "      <td>(white) trash</td>\n",
       "      <td>0</td>\n",
       "    </tr>\n",
       "    <tr>\n",
       "      <th>...</th>\n",
       "      <td>...</td>\n",
       "      <td>...</td>\n",
       "    </tr>\n",
       "    <tr>\n",
       "      <th>12465</th>\n",
       "      <td>👮</td>\n",
       "      <td>0</td>\n",
       "    </tr>\n",
       "    <tr>\n",
       "      <th>12466</th>\n",
       "      <td>👶</td>\n",
       "      <td>1</td>\n",
       "    </tr>\n",
       "    <tr>\n",
       "      <th>12467</th>\n",
       "      <td>💢</td>\n",
       "      <td>1</td>\n",
       "    </tr>\n",
       "    <tr>\n",
       "      <th>12468</th>\n",
       "      <td>🚻</td>\n",
       "      <td>1</td>\n",
       "    </tr>\n",
       "    <tr>\n",
       "      <th>12469</th>\n",
       "      <td>🚼</td>\n",
       "      <td>1</td>\n",
       "    </tr>\n",
       "  </tbody>\n",
       "</table>\n",
       "<p>12470 rows × 2 columns</p>\n",
       "</div>"
      ],
      "text/plain": [
       "                      unit  hate-label\n",
       "0      %e2%80%99ndrangheta           0\n",
       "1              'ndrangheta           0\n",
       "2                (0, 0, 0)           1\n",
       "3          (to get) dumped           0\n",
       "4            (white) trash           0\n",
       "...                    ...         ...\n",
       "12465                    👮           0\n",
       "12466                    👶           1\n",
       "12467                    💢           1\n",
       "12468                    🚻           1\n",
       "12469                    🚼           1\n",
       "\n",
       "[12470 rows x 2 columns]"
      ]
     },
     "execution_count": 3,
     "metadata": {},
     "output_type": "execute_result"
    }
   ],
   "source": [
    "merged"
   ]
  },
  {
   "cell_type": "code",
   "execution_count": 4,
   "id": "ec642766",
   "metadata": {},
   "outputs": [
    {
     "data": {
      "text/html": [
       "<div>\n",
       "<style scoped>\n",
       "    .dataframe tbody tr th:only-of-type {\n",
       "        vertical-align: middle;\n",
       "    }\n",
       "\n",
       "    .dataframe tbody tr th {\n",
       "        vertical-align: top;\n",
       "    }\n",
       "\n",
       "    .dataframe thead th {\n",
       "        text-align: right;\n",
       "    }\n",
       "</style>\n",
       "<table border=\"1\" class=\"dataframe\">\n",
       "  <thead>\n",
       "    <tr style=\"text-align: right;\">\n",
       "      <th></th>\n",
       "      <th>id</th>\n",
       "      <th>text</th>\n",
       "      <th>labels</th>\n",
       "    </tr>\n",
       "  </thead>\n",
       "  <tbody>\n",
       "    <tr>\n",
       "      <th>0</th>\n",
       "      <td>15923</td>\n",
       "      <td>#WhoIsQ #WheresTheServer #DumpNike #DECLASFISA Democrats Support Antifa, Muslim Brotherhood, MS13, ISIS, Pedophilia, Child Trafficking, Taxpayer Funded Abortion’s, Election Fraud, Sedition And Treason!!! #LockThemAllUp #WWG1WGA #QAnon ⁦@USER URL</td>\n",
       "      <td>1</td>\n",
       "    </tr>\n",
       "    <tr>\n",
       "      <th>1</th>\n",
       "      <td>27014</td>\n",
       "      <td>#ConstitutionDay is revered by Conservatives, hated by Progressives/Socialist/Democrats that want to change it.</td>\n",
       "      <td>0</td>\n",
       "    </tr>\n",
       "    <tr>\n",
       "      <th>2</th>\n",
       "      <td>30530</td>\n",
       "      <td>#FOXNews #NRA #MAGA #POTUS #TRUMP #2ndAmendment #RNC #USMC #veterans @USER    @USER @USER @USER @USER   #fakereporting #THESWAMP #dnc #liberals @USER @USER #fakeoutrage @USER  First, it reduces the ca URL</td>\n",
       "      <td>0</td>\n",
       "    </tr>\n",
       "    <tr>\n",
       "      <th>3</th>\n",
       "      <td>13876</td>\n",
       "      <td>#Watching #Boomer getting the news that she is still up for parole always makes me smile. #Wentworth Finale...@USER is such a treasure. URL</td>\n",
       "      <td>0</td>\n",
       "    </tr>\n",
       "    <tr>\n",
       "      <th>4</th>\n",
       "      <td>60133</td>\n",
       "      <td>#NoPasaran: Unity demo to oppose the far-right in #London – #antifa #Oct13 — Enough is Enough! URL</td>\n",
       "      <td>1</td>\n",
       "    </tr>\n",
       "  </tbody>\n",
       "</table>\n",
       "</div>"
      ],
      "text/plain": [
       "      id  \\\n",
       "0  15923   \n",
       "1  27014   \n",
       "2  30530   \n",
       "3  13876   \n",
       "4  60133   \n",
       "\n",
       "                                                                                                                                                                                                                                                    text  \\\n",
       "0  #WhoIsQ #WheresTheServer #DumpNike #DECLASFISA Democrats Support Antifa, Muslim Brotherhood, MS13, ISIS, Pedophilia, Child Trafficking, Taxpayer Funded Abortion’s, Election Fraud, Sedition And Treason!!! #LockThemAllUp #WWG1WGA #QAnon ⁦@USER URL   \n",
       "1                                                                                                                                        #ConstitutionDay is revered by Conservatives, hated by Progressives/Socialist/Democrats that want to change it.   \n",
       "2                                           #FOXNews #NRA #MAGA #POTUS #TRUMP #2ndAmendment #RNC #USMC #veterans @USER    @USER @USER @USER @USER   #fakereporting #THESWAMP #dnc #liberals @USER @USER #fakeoutrage @USER  First, it reduces the ca URL   \n",
       "3                                                                                                            #Watching #Boomer getting the news that she is still up for parole always makes me smile. #Wentworth Finale...@USER is such a treasure. URL   \n",
       "4                                                                                                                                                     #NoPasaran: Unity demo to oppose the far-right in #London – #antifa #Oct13 — Enough is Enough! URL   \n",
       "\n",
       "   labels  \n",
       "0       1  \n",
       "1       0  \n",
       "2       0  \n",
       "3       0  \n",
       "4       1  "
      ]
     },
     "execution_count": 4,
     "metadata": {},
     "output_type": "execute_result"
    }
   ],
   "source": [
    "test.head()"
   ]
  },
  {
   "cell_type": "code",
   "execution_count": 5,
   "id": "736b359c",
   "metadata": {},
   "outputs": [
    {
     "name": "stdout",
     "output_type": "stream",
     "text": [
      "True\n"
     ]
    }
   ],
   "source": [
    "# The string you want to check for\n",
    "target_string = 'hated'\n",
    "\n",
    "# Check if 'target_string' is in 'column_name' and get True or False\n",
    "result = merged['unit'].str.contains(target_string).any()\n",
    "\n",
    "print(result)"
   ]
  },
  {
   "cell_type": "code",
   "execution_count": null,
   "id": "484725d6",
   "metadata": {},
   "outputs": [],
   "source": []
  },
  {
   "cell_type": "markdown",
   "id": "dd9bb9c3",
   "metadata": {},
   "source": [
    "# Run this approach with the 4 lexicons"
   ]
  },
  {
   "cell_type": "code",
   "execution_count": 6,
   "id": "01f9841b",
   "metadata": {},
   "outputs": [],
   "source": [
    "# Load the merged lexicon (from Step 3)\n",
    "merged_lexicon = pd.read_csv('./merged_lexicon.csv')\n",
    "# Drop instances where 'hate-label' is equal to 0\n",
    "merged_lexicon = merged_lexicon[merged_lexicon['hate-label'] != 0]\n",
    "\n",
    "# Load the OLID test dataset\n",
    "test_data = pd.read_csv('./Data/olid-test.csv')\n"
   ]
  },
  {
   "cell_type": "code",
   "execution_count": 7,
   "id": "2b8c41e7",
   "metadata": {},
   "outputs": [
    {
     "data": {
      "text/plain": [
       "pandas.core.series.Series"
      ]
     },
     "execution_count": 7,
     "metadata": {},
     "output_type": "execute_result"
    }
   ],
   "source": [
    "type(test_data['text'])"
   ]
  },
  {
   "cell_type": "code",
   "execution_count": 8,
   "id": "3a1098be",
   "metadata": {},
   "outputs": [
    {
     "data": {
      "image/png": "[encoded data removed]",
      "text/plain": [
       "<Figure size 800x600 with 2 Axes>"
      ]
     },
     "metadata": {},
     "output_type": "display_data"
    },
    {
     "ename": "NameError",
     "evalue": "name 'classification_report' is not defined",
     "output_type": "error",
     "traceback": [
      "\u001b[1;31m---------------------------------------------------------------------------\u001b[0m",
      "\u001b[1;31mNameError\u001b[0m                                 Traceback (most recent call last)",
      "Cell \u001b[1;32mIn[8], line 53\u001b[0m\n\u001b[0;32m     48\u001b[0m     \u001b[38;5;28mprint\u001b[39m(report)\n\u001b[0;32m     50\u001b[0m     \u001b[38;5;28;01mreturn\u001b[39;00m results_df\n\u001b[1;32m---> 53\u001b[0m \u001b[43mlexicon_lookup_and_evaluate\u001b[49m\u001b[43m(\u001b[49m\u001b[43mtest_data\u001b[49m\u001b[43m[\u001b[49m\u001b[38;5;124;43m'\u001b[39;49m\u001b[38;5;124;43mtext\u001b[39;49m\u001b[38;5;124;43m'\u001b[39;49m\u001b[43m]\u001b[49m\u001b[43m,\u001b[49m\u001b[43m \u001b[49m\u001b[43mtest_data\u001b[49m\u001b[43m[\u001b[49m\u001b[38;5;124;43m'\u001b[39;49m\u001b[38;5;124;43mlabels\u001b[39;49m\u001b[38;5;124;43m'\u001b[39;49m\u001b[43m]\u001b[49m\u001b[43m,\u001b[49m\u001b[43m \u001b[49m\u001b[43mmerged_lexicon\u001b[49m\u001b[43m,\u001b[49m\u001b[43m \u001b[49m\u001b[43mcolum_name\u001b[49m\u001b[38;5;241;43m=\u001b[39;49m\u001b[38;5;124;43m'\u001b[39;49m\u001b[38;5;124;43munit\u001b[39;49m\u001b[38;5;124;43m'\u001b[39;49m\u001b[43m,\u001b[49m\u001b[43m \u001b[49m\u001b[43mname\u001b[49m\u001b[43m \u001b[49m\u001b[38;5;241;43m=\u001b[39;49m\u001b[43m \u001b[49m\u001b[38;5;124;43m\"\u001b[39;49m\u001b[38;5;124;43mMerged lexicon\u001b[39;49m\u001b[38;5;124;43m\"\u001b[39;49m\u001b[43m)\u001b[49m\n",
      "Cell \u001b[1;32mIn[8], line 44\u001b[0m, in \u001b[0;36mlexicon_lookup_and_evaluate\u001b[1;34m(text_column, labels_column, lexicon, colum_name, name)\u001b[0m\n\u001b[0;32m     41\u001b[0m plt\u001b[38;5;241m.\u001b[39mshow()\n\u001b[0;32m     43\u001b[0m \u001b[38;5;66;03m# Generate a classification report\u001b[39;00m\n\u001b[1;32m---> 44\u001b[0m report \u001b[38;5;241m=\u001b[39m \u001b[43mclassification_report\u001b[49m(results_df[\u001b[38;5;124m'\u001b[39m\u001b[38;5;124mTrue_Labels\u001b[39m\u001b[38;5;124m'\u001b[39m], results_df[\u001b[38;5;124m'\u001b[39m\u001b[38;5;124mPredicted_Labels\u001b[39m\u001b[38;5;124m'\u001b[39m], target_names\u001b[38;5;241m=\u001b[39m[\u001b[38;5;124m'\u001b[39m\u001b[38;5;124mNon-Hate\u001b[39m\u001b[38;5;124m'\u001b[39m, \u001b[38;5;124m'\u001b[39m\u001b[38;5;124mHate\u001b[39m\u001b[38;5;124m'\u001b[39m])\n\u001b[0;32m     46\u001b[0m \u001b[38;5;66;03m# Print the classification report\u001b[39;00m\n\u001b[0;32m     47\u001b[0m \u001b[38;5;28mprint\u001b[39m(\u001b[38;5;124m\"\u001b[39m\u001b[38;5;124mClassification Report for \u001b[39m\u001b[38;5;124m\"\u001b[39m \u001b[38;5;241m+\u001b[39m name \u001b[38;5;241m+\u001b[39m \u001b[38;5;124m\"\u001b[39m\u001b[38;5;124m:\u001b[39m\u001b[38;5;130;01m\\n\u001b[39;00m\u001b[38;5;124m\"\u001b[39m)\n",
      "\u001b[1;31mNameError\u001b[0m: name 'classification_report' is not defined"
     ]
    }
   ],
   "source": [
    "def lexicon_lookup_and_evaluate(text_column, labels_column, lexicon, colum_name=None, name=None):\n",
    "    \"\"\"\n",
    "    Perform lexicon-based hate speech identification and evaluate the results.\n",
    "\n",
    "    Parameters:\n",
    "        text_column (pd.Series): The column containing the input text to classify.\n",
    "        labels_column (pd.Series): The column containing the true labels (0 for non-hate, 1 for hate).\n",
    "        lexicon (pd.DataFrame): The merged lexicon containing hate speech terms and labels.\n",
    "        colum_name (str) : the colume name in the dataframe \n",
    "        name (str) : name to be add it to Confusion Matrix\n",
    "\n",
    "\n",
    "    Returns:\n",
    "        pd.DataFrame: A DataFrame containing the original text, true labels, predicted labels, and the confusion matrix.\n",
    "    \"\"\"\n",
    "    # Create a DataFrame to store results\n",
    "    results_df = pd.DataFrame({'Text': text_column, 'True_Labels': labels_column})\n",
    "\n",
    "    # Define a function for lexicon-based hate speech identification\n",
    "    def lexicon_lookup(text, lexicon):\n",
    "        tokens = text.lower().split()  # Convert to lowercase for case-insensitive matching\n",
    "        for token in tokens:\n",
    "            if token in lexicon[colum_name].values:\n",
    "                return 1  # Hate speech detected\n",
    "        return 0  # Non-hate speech\n",
    "\n",
    "    # Apply the lexicon-lookup approach to the text data\n",
    "    results_df['Predicted_Labels'] = text_column.apply(lambda x: lexicon_lookup(x, lexicon))\n",
    "\n",
    "    # Calculate the confusion matrix\n",
    "    conf_matrix = confusion_matrix(results_df['True_Labels'], results_df['Predicted_Labels'])\n",
    "\n",
    "    # Create a confusion matrix plot\n",
    "    plt.figure(figsize=(8, 6))\n",
    "    sns.heatmap(conf_matrix, annot=True, fmt='d', cmap='Blues',\n",
    "                xticklabels=['Non-Hate', 'Hate'],\n",
    "                yticklabels=['Non-Hate', 'Hate'])\n",
    "    plt.xlabel('Predicted')\n",
    "    plt.ylabel('Actual')\n",
    "    plt.title('Confusion Matrix of '+name)\n",
    "    plt.show()\n",
    "    \n",
    "    # Generate a classification report\n",
    "    report = classification_report(results_df['True_Labels'], results_df['Predicted_Labels'], target_names=['Non-Hate', 'Hate'])\n",
    "\n",
    "    # Print the classification report\n",
    "    print(\"Classification Report for \" + name + \":\\n\")\n",
    "    print(report)\n",
    "\n",
    "    return results_df\n",
    "\n",
    "\n",
    "lexicon_lookup_and_evaluate(test_data['text'], test_data['labels'], merged_lexicon, colum_name='unit', name = \"Merged lexicon\")\n"
   ]
  },
  {
   "cell_type": "code",
   "execution_count": null,
   "id": "d11b2db0",
   "metadata": {},
   "outputs": [],
   "source": [
    "# Define the path to the base lexicon file\n",
    "path = r\"../Assignment 3 - Group 11/Data/lexicon-of-abusive-words-master/Lexicons/\"\n",
    "\n",
    "featur_base_lexicon_path = path + \"expandedLexicon.txt\"\n",
    "df_featur_base_lexicon = pd.read_csv(featur_base_lexicon_path, sep='\\t', header=None, names=[\"word\", \"label\"], encoding=\"utf-8\")\n",
    "df_featur_base_lexicon.head()\n",
    "\n",
    "# Drop instances where 'label' is less than or equal to 0\n",
    "df_featur_base_lexicon = df_featur_base_lexicon[df_featur_base_lexicon['label'] > 0]\n",
    "df_featur_base_lexicon.head()"
   ]
  },
  {
   "cell_type": "code",
   "execution_count": null,
   "id": "19f685c8",
   "metadata": {},
   "outputs": [],
   "source": [
    "lexicon_lookup_and_evaluate(test_data['text'], test_data['labels'], df_featur_base_lexicon , colum_name='word', name = \"Expanded Lexicon\")\n"
   ]
  },
  {
   "cell_type": "code",
   "execution_count": null,
   "id": "7fcc0328",
   "metadata": {},
   "outputs": [],
   "source": [
    "path= r\"../Assignment 3 - Group 11/Data/\"\n",
    "hurtlex_EN = path+\"hurtlex_EN.tsv\"\n",
    "\n",
    "# Read the TSV file into a DataFrame\n",
    "df_hurtlex_EN = pd.read_csv(hurtlex_EN, sep='\\t', encoding='utf-8')\n",
    "df_hurtlex_EN.head()"
   ]
  },
  {
   "cell_type": "code",
   "execution_count": null,
   "id": "9c39f7e1",
   "metadata": {},
   "outputs": [],
   "source": [
    "lexicon_lookup_and_evaluate(test_data['text'], test_data['labels'], df_hurtlex_EN , colum_name='lemma', name = \"Hurtlex Lexicon\")\n"
   ]
  },
  {
   "cell_type": "code",
   "execution_count": null,
   "id": "a85a58b2",
   "metadata": {},
   "outputs": [],
   "source": [
    "path= r\"../Assignment 3 - Group 11/Data/\"\n",
    "mol =path+\"mol.csv\"\n",
    "\n",
    "# Read the csv file into a DataFrame\n",
    "df_mol = pd.read_csv(mol)\n",
    "\n",
    "# Drop rows where en-hate-label is equal to 1\n",
    "df_mol = df_mol[df_mol['en-hate-label'] != 1]\n",
    "\n",
    "# Display the first few rows\n",
    "df_mol.head()"
   ]
  },
  {
   "cell_type": "code",
   "execution_count": null,
   "id": "cef2a4aa",
   "metadata": {},
   "outputs": [],
   "source": [
    "lexicon_lookup_and_evaluate(test_data['text'], test_data['labels'], df_mol , colum_name='en-american-english', name = \"Mol Lexicon\")\n"
   ]
  },
  {
   "cell_type": "code",
   "execution_count": null,
   "id": "25018654",
   "metadata": {},
   "outputs": [],
   "source": []
  },
  {
   "cell_type": "code",
   "execution_count": null,
   "id": "fb5834e0",
   "metadata": {},
   "outputs": [],
   "source": []
  },
  {
   "cell_type": "code",
   "execution_count": null,
   "id": "787c96e2",
   "metadata": {},
   "outputs": [],
   "source": []
  }
 ],
 "metadata": {
  "kernelspec": {
   "display_name": "Python 3 (ipykernel)",
   "language": "python",
   "name": "python3"
  },
  "language_info": {
   "codemirror_mode": {
    "name": "ipython",
    "version": 3
   },
   "file_extension": ".py",
   "mimetype": "text/x-python",
   "name": "python",
   "nbconvert_exporter": "python",
   "pygments_lexer": "ipython3",
   "version": "3.9.16"
  }
 },
 "nbformat": 4,
 "nbformat_minor": 5
}
